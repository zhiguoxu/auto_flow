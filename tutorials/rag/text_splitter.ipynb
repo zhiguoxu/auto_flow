{
 "cells": [
  {
   "cell_type": "code",
   "execution_count": 4,
   "metadata": {
    "collapsed": true
   },
   "outputs": [
    {
     "name": "stdout",
     "output_type": "stream",
     "text": [
      "482 What I Worked On\n",
      "\n",
      "February 2021\n",
      "\n",
      "Before college th\n",
      "304 The first of my friends to get a microcomputer bui\n",
      "424 I couldn't have put this into words when I was 18.\n",
      "251 I had gotten into a program at Cornell that didn't\n",
      "420 What these programs really showed was that there's\n",
      "415 There were some surplus Xerox Dandelions floating \n",
      "386 So now I was in a PhD program in computer science,\n",
      "334 I'd applied for the BFA program at RISD, which mea\n",
      "264 I'm only up to age 25 and already there are such c\n",
      "258 While I was a student at the Accademia I started p\n",
      "387 I liked painting still lives because I was curious\n",
      "426 Interleaf had done something pretty bold. Inspired\n",
      "478 But the most important thing I learned, and which \n",
      "463 There were plenty of earnest students too: kids wh\n",
      "479 The best thing about New York for me was the prese\n",
      "252 So in the summer of 1995, after I submitted the ca\n",
      "503 This kind of software, known as a web app, is comm\n",
      "320 (If you're curious why my site looks so old-fashio\n",
      "400 There were three main parts to the software: the e\n",
      "225 We learned a lot more about retail than we wanted \n",
      "430 Another thing I didn't get at the time is that gro\n",
      "501 The next year, from the summer of 1998 to the summ\n",
      "308 So I tried to paint, but I just didn't seem to hav\n",
      "482 Meanwhile I looked for an apartment to buy. Now I \n",
      "307 I started working on the application builder, Dan \n",
      "480 The following spring, lightning struck. I was invi\n",
      "456 One of the most conspicuous patterns I've noticed \n",
      "441 Jessica was in charge of marketing at a Boston inv\n",
      "362 As Jessica and I were walking home from dinner on \n",
      "476 YC was not organized as a fund. It was cheap enoug\n",
      "441 We invited about 20 of the 225 groups to interview\n",
      "347 I had not originally intended YC to be a full-time\n",
      "444 As well as HN, I wrote all of YC's internal softwa\n",
      "498 At the time I didn't understand what he meant, but\n",
      "374 I kept working on YC till March, to help get that \n",
      "323 The distinctive thing about Lisp is that its core \n",
      "408 Now they are, though. Now you could continue using\n",
      "373 Working on Bel was hard but satisfying. I worked o\n",
      "499 \n",
      "Notes\n",
      "\n",
      "[1] My experience skipped a step in the ev\n",
      "383 [9] We'd had a code editor in Viaweb for users to \n",
      "356 Here's an interesting point, though: you can't alw\n",
      "374 [17] Another problem with HN was a bizarre edge ca\n"
     ]
    }
   ],
   "source": [
    "from core.rag.splitter.utils import get_default_token_length_fn\n",
    "from core.rag.document.document import Document\n",
    "from core.rag.splitter.text_splitter import TextSplitter\n",
    "\n",
    "splitter = TextSplitter()\n",
    "token_length_fn = get_default_token_length_fn()\n",
    "\n",
    "with open('paul_graham_essay.txt', 'r', encoding='utf-8') as file:\n",
    "    # 读取文件内容\n",
    "    file_content = file.read()\n",
    "    document = Document(text=file_content)\n",
    "    for doc in splitter.split_document([document]):\n",
    "        print(token_length_fn(doc.text), doc.text[:50])"
   ]
  },
  {
   "cell_type": "code",
   "execution_count": null,
   "outputs": [],
   "source": [],
   "metadata": {
    "collapsed": false
   }
  }
 ],
 "metadata": {
  "kernelspec": {
   "display_name": "Python 3",
   "language": "python",
   "name": "python3"
  },
  "language_info": {
   "codemirror_mode": {
    "name": "ipython",
    "version": 2
   },
   "file_extension": ".py",
   "mimetype": "text/x-python",
   "name": "python",
   "nbconvert_exporter": "python",
   "pygments_lexer": "ipython2",
   "version": "2.7.6"
  }
 },
 "nbformat": 4,
 "nbformat_minor": 0
}
