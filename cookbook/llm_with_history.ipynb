{
 "cells": [
  {
   "cell_type": "code",
   "execution_count": 1,
   "outputs": [],
   "source": [
    "from core.callbacks.chat_history import BaseChatMessageHistory, InMemoryChatMessageHistory\n",
    "\n",
    "store = {}\n",
    "\n",
    "\n",
    "def get_session_history(session_id: str) -> BaseChatMessageHistory:\n",
    "    if session_id not in store:\n",
    "        store[session_id] = InMemoryChatMessageHistory()\n",
    "    return store[session_id]\n",
    "\n",
    "\n",
    "from core.llm.openai.openai_llm import OpenAILLM\n",
    "\n"
   ],
   "metadata": {
    "collapsed": false
   }
  },
  {
   "cell_type": "code",
   "execution_count": 2,
   "outputs": [],
   "source": [
    "llm_with_history = OpenAILLM(model=\"gpt-4o\").with_history(get_session_history)\n",
    "llm_with_history = llm_with_history.with_configurable(session_id=\"123\").with_config(verbose=True)"
   ],
   "metadata": {
    "collapsed": false
   }
  },
  {
   "cell_type": "code",
   "execution_count": 3,
   "outputs": [
    {
     "name": "stdout",
     "output_type": "stream",
     "text": [
      "core.flow.flow.SequenceFlow: on_flow_start: Who are you?, {'session_id': '123'}\n",
      "core.flow.flow.SequenceFlow: on_flow_end: role=<Role.ASSISTANT: 'assistant'> content=\"I'm an artificial intelligence developed by OpenAI, designed to assist with answering questions, providing information, and helping with a variety of tasks. How can I assist you today?\" tool_calls=None tool_call_id=None finish_reason='stop' extra_data=None\n",
      "core.flow.flow.SequenceFlow: on_flow_start: really?, {'session_id': '123'}\n",
      "core.flow.flow.SequenceFlow: on_flow_end: role=<Role.ASSISTANT: 'assistant'> content=\"Yes, really! I'm here to help with any questions or tasks you might have. Whether you need information, advice, or assistance with something specific, feel free to ask!\" tool_calls=None tool_call_id=None finish_reason='stop' extra_data=None\n"
     ]
    },
    {
     "data": {
      "text/plain": "ChatMessage(role=<Role.ASSISTANT: 'assistant'>, content=\"Yes, really! I'm here to help with any questions or tasks you might have. Whether you need information, advice, or assistance with something specific, feel free to ask!\", tool_calls=None, tool_call_id=None, finish_reason='stop', extra_data=None)"
     },
     "execution_count": 3,
     "metadata": {},
     "output_type": "execute_result"
    }
   ],
   "source": [
    "llm_with_history.invoke(\"Who are you?\")\n",
    "llm_with_history.invoke(\"really?\")"
   ],
   "metadata": {
    "collapsed": false
   }
  },
  {
   "cell_type": "code",
   "execution_count": 4,
   "outputs": [
    {
     "data": {
      "text/plain": "{'123': InMemoryChatMessageHistory(messages=[ChatMessage(role=<Role.USER: 'user'>, content='Who are you?', tool_calls=None, tool_call_id=None, finish_reason=None, extra_data=None), ChatMessage(role=<Role.ASSISTANT: 'assistant'>, content=\"I'm an artificial intelligence developed by OpenAI, designed to assist with answering questions, providing information, and helping with a variety of tasks. How can I assist you today?\", tool_calls=None, tool_call_id=None, finish_reason='stop', extra_data=None), ChatMessage(role=<Role.USER: 'user'>, content='really?', tool_calls=None, tool_call_id=None, finish_reason=None, extra_data=None), ChatMessage(role=<Role.ASSISTANT: 'assistant'>, content=\"Yes, really! I'm here to help with any questions or tasks you might have. Whether you need information, advice, or assistance with something specific, feel free to ask!\", tool_calls=None, tool_call_id=None, finish_reason='stop', extra_data=None)])}"
     },
     "execution_count": 4,
     "metadata": {},
     "output_type": "execute_result"
    }
   ],
   "source": [
    "# Check store session history.\n",
    "store"
   ],
   "metadata": {
    "collapsed": false
   }
  },
  {
   "cell_type": "code",
   "execution_count": null,
   "outputs": [],
   "source": [],
   "metadata": {
    "collapsed": false
   }
  }
 ],
 "metadata": {
  "kernelspec": {
   "display_name": "Python 3",
   "language": "python",
   "name": "python3"
  },
  "language_info": {
   "codemirror_mode": {
    "name": "ipython",
    "version": 2
   },
   "file_extension": ".py",
   "mimetype": "text/x-python",
   "name": "python",
   "nbconvert_exporter": "python",
   "pygments_lexer": "ipython2",
   "version": "2.7.6"
  }
 },
 "nbformat": 4,
 "nbformat_minor": 0
}
