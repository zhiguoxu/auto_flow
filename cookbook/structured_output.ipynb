{
 "cells": [
  {
   "cell_type": "code",
   "execution_count": null,
   "metadata": {
    "collapsed": true
   },
   "outputs": [],
   "source": [
    "from core.llm.openai.openai_llm import OpenAILLM\n",
    "from pydantic import BaseModel, Field\n",
    "\n",
    "\n",
    "class Joke(BaseModel):\n",
    "    setup: str = Field(description=\"The setup of the joke\")\n",
    "    punchline: str = Field(description=\"The punchline to the joke\")\n",
    "\n",
    "\n",
    "llm = OpenAILLM(model=\"gpt-4o\")"
   ]
  },
  {
   "cell_type": "code",
   "execution_count": null,
   "outputs": [],
   "source": [
    "structured_llm = llm.with_structured_output(Joke)\n",
    "structured_llm.invoke(\"Tell me a joke about math\")"
   ],
   "metadata": {
    "collapsed": false
   }
  },
  {
   "cell_type": "code",
   "execution_count": null,
   "outputs": [],
   "source": [
    "structured_llm = llm.with_structured_output(Joke, include_raw=True)\n",
    "structured_llm.invoke(\"Tell me a joke about math\")"
   ],
   "metadata": {
    "collapsed": false
   }
  },
  {
   "cell_type": "code",
   "execution_count": null,
   "outputs": [],
   "source": [
    "structured_llm = llm.with_structured_output(Joke, method=\"json_mode\", return_type=\"dict\")\n",
    "structured_llm.invoke(\"Tell me a joke about math\")"
   ],
   "metadata": {
    "collapsed": false
   }
  },
  {
   "cell_type": "code",
   "execution_count": 8,
   "outputs": [
    {
     "name": "stdout",
     "output_type": "stream",
     "text": [
      "[{'op': 'replace', 'path': '', 'value': {}}]\n",
      "[{'op': 'add', 'path': '/setup', 'value': ''}]\n",
      "[{'op': 'replace', 'path': '/setup', 'value': 'Why'}]\n",
      "[{'op': 'replace', 'path': '/setup', 'value': 'Why was'}]\n",
      "[{'op': 'replace', 'path': '/setup', 'value': 'Why was the'}]\n",
      "[{'op': 'replace', 'path': '/setup', 'value': 'Why was the equal'}]\n",
      "[{'op': 'replace', 'path': '/setup', 'value': 'Why was the equal sign'}]\n",
      "[{'op': 'replace', 'path': '/setup', 'value': 'Why was the equal sign so'}]\n",
      "[{'op': 'replace', 'path': '/setup', 'value': 'Why was the equal sign so humble'}]\n",
      "[{'op': 'replace', 'path': '/setup', 'value': 'Why was the equal sign so humble?'}]\n",
      "[{'op': 'add', 'path': '/punchline', 'value': ''}]\n",
      "[{'op': 'replace', 'path': '/punchline', 'value': 'Because'}]\n",
      "[{'op': 'replace', 'path': '/punchline', 'value': 'Because it'}]\n",
      "[{'op': 'replace', 'path': '/punchline', 'value': 'Because it knew'}]\n",
      "[{'op': 'replace', 'path': '/punchline', 'value': 'Because it knew it'}]\n",
      "[{'op': 'replace', 'path': '/punchline', 'value': \"Because it knew it wasn't\"}]\n",
      "[{'op': 'replace', 'path': '/punchline', 'value': \"Because it knew it wasn't less\"}]\n",
      "[{'op': 'replace', 'path': '/punchline', 'value': \"Because it knew it wasn't less than\"}]\n",
      "[{'op': 'replace', 'path': '/punchline', 'value': \"Because it knew it wasn't less than or\"}]\n",
      "[{'op': 'replace', 'path': '/punchline', 'value': \"Because it knew it wasn't less than or greater\"}]\n",
      "[{'op': 'replace', 'path': '/punchline', 'value': \"Because it knew it wasn't less than or greater than\"}]\n",
      "[{'op': 'replace', 'path': '/punchline', 'value': \"Because it knew it wasn't less than or greater than anyone\"}]\n",
      "[{'op': 'replace', 'path': '/punchline', 'value': \"Because it knew it wasn't less than or greater than anyone else\"}]\n",
      "[{'op': 'replace', 'path': '/punchline', 'value': \"Because it knew it wasn't less than or greater than anyone else.\"}]\n",
      "[]\n"
     ]
    }
   ],
   "source": [
    "# Try stream\n",
    "structured_llm = llm.with_structured_output(Joke, return_type=\"dict\")\n",
    "for o in structured_llm.stream(\"Tell me a joke about math\"):\n",
    "    print(o)"
   ],
   "metadata": {
    "collapsed": false
   }
  },
  {
   "cell_type": "code",
   "execution_count": 7,
   "outputs": [
    {
     "data": {
      "text/plain": "{}"
     },
     "execution_count": 7,
     "metadata": {},
     "output_type": "execute_result"
    }
   ],
   "source": [
    "from core.context import var_context_cache\n",
    "\n",
    "var_context_cache.get()"
   ],
   "metadata": {
    "collapsed": false
   }
  },
  {
   "cell_type": "code",
   "execution_count": null,
   "outputs": [],
   "source": [],
   "metadata": {
    "collapsed": false
   }
  }
 ],
 "metadata": {
  "kernelspec": {
   "display_name": "Python 3",
   "language": "python",
   "name": "python3"
  },
  "language_info": {
   "codemirror_mode": {
    "name": "ipython",
    "version": 2
   },
   "file_extension": ".py",
   "mimetype": "text/x-python",
   "name": "python",
   "nbconvert_exporter": "python",
   "pygments_lexer": "ipython2",
   "version": "2.7.6"
  }
 },
 "nbformat": 4,
 "nbformat_minor": 0
}
